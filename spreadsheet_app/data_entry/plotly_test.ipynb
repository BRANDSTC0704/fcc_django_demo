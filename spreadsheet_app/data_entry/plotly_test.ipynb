{
 "cells": [
  {
   "cell_type": "code",
   "execution_count": 2,
   "metadata": {},
   "outputs": [],
   "source": [
    "import plotly.express as px\n",
    "import plotly.io as pio\n",
    "import pandas as pd"
   ]
  },
  {
   "cell_type": "code",
   "execution_count": 10,
   "metadata": {},
   "outputs": [
    {
     "name": "stdout",
     "output_type": "stream",
     "text": [
      "Requirement already satisfied: dash in c:\\users\\brandstc0704\\onedrive - fcc\\wd\\djangodemo\\.venv\\lib\\site-packages (2.18.2)\n",
      "Requirement already satisfied: Flask<3.1,>=1.0.4 in c:\\users\\brandstc0704\\onedrive - fcc\\wd\\djangodemo\\.venv\\lib\\site-packages (from dash) (3.0.3)\n",
      "Requirement already satisfied: Werkzeug<3.1 in c:\\users\\brandstc0704\\onedrive - fcc\\wd\\djangodemo\\.venv\\lib\\site-packages (from dash) (3.0.6)\n",
      "Requirement already satisfied: plotly>=5.0.0 in c:\\users\\brandstc0704\\onedrive - fcc\\wd\\djangodemo\\.venv\\lib\\site-packages (from dash) (6.0.1)\n",
      "Requirement already satisfied: dash-html-components==2.0.0 in c:\\users\\brandstc0704\\onedrive - fcc\\wd\\djangodemo\\.venv\\lib\\site-packages (from dash) (2.0.0)\n",
      "Requirement already satisfied: dash-core-components==2.0.0 in c:\\users\\brandstc0704\\onedrive - fcc\\wd\\djangodemo\\.venv\\lib\\site-packages (from dash) (2.0.0)\n",
      "Requirement already satisfied: dash-table==5.0.0 in c:\\users\\brandstc0704\\onedrive - fcc\\wd\\djangodemo\\.venv\\lib\\site-packages (from dash) (5.0.0)\n",
      "Requirement already satisfied: importlib-metadata in c:\\users\\brandstc0704\\onedrive - fcc\\wd\\djangodemo\\.venv\\lib\\site-packages (from dash) (8.6.1)\n",
      "Requirement already satisfied: typing-extensions>=4.1.1 in c:\\users\\brandstc0704\\onedrive - fcc\\wd\\djangodemo\\.venv\\lib\\site-packages (from dash) (4.12.2)\n",
      "Requirement already satisfied: requests in c:\\users\\brandstc0704\\onedrive - fcc\\wd\\djangodemo\\.venv\\lib\\site-packages (from dash) (2.32.3)\n",
      "Requirement already satisfied: retrying in c:\\users\\brandstc0704\\onedrive - fcc\\wd\\djangodemo\\.venv\\lib\\site-packages (from dash) (1.3.4)\n",
      "Requirement already satisfied: nest-asyncio in c:\\users\\brandstc0704\\onedrive - fcc\\wd\\djangodemo\\.venv\\lib\\site-packages (from dash) (1.6.0)\n",
      "Requirement already satisfied: setuptools in c:\\users\\brandstc0704\\onedrive - fcc\\wd\\djangodemo\\.venv\\lib\\site-packages (from dash) (65.5.0)\n",
      "Requirement already satisfied: Jinja2>=3.1.2 in c:\\users\\brandstc0704\\onedrive - fcc\\wd\\djangodemo\\.venv\\lib\\site-packages (from Flask<3.1,>=1.0.4->dash) (3.1.6)\n",
      "Requirement already satisfied: itsdangerous>=2.1.2 in c:\\users\\brandstc0704\\onedrive - fcc\\wd\\djangodemo\\.venv\\lib\\site-packages (from Flask<3.1,>=1.0.4->dash) (2.2.0)\n",
      "Requirement already satisfied: click>=8.1.3 in c:\\users\\brandstc0704\\onedrive - fcc\\wd\\djangodemo\\.venv\\lib\\site-packages (from Flask<3.1,>=1.0.4->dash) (8.1.8)\n",
      "Requirement already satisfied: blinker>=1.6.2 in c:\\users\\brandstc0704\\onedrive - fcc\\wd\\djangodemo\\.venv\\lib\\site-packages (from Flask<3.1,>=1.0.4->dash) (1.9.0)\n",
      "Requirement already satisfied: narwhals>=1.15.1 in c:\\users\\brandstc0704\\onedrive - fcc\\wd\\djangodemo\\.venv\\lib\\site-packages (from plotly>=5.0.0->dash) (1.31.0)\n",
      "Requirement already satisfied: packaging in c:\\users\\brandstc0704\\onedrive - fcc\\wd\\djangodemo\\.venv\\lib\\site-packages (from plotly>=5.0.0->dash) (24.2)\n",
      "Requirement already satisfied: MarkupSafe>=2.1.1 in c:\\users\\brandstc0704\\onedrive - fcc\\wd\\djangodemo\\.venv\\lib\\site-packages (from Werkzeug<3.1->dash) (3.0.2)\n",
      "Requirement already satisfied: zipp>=3.20 in c:\\users\\brandstc0704\\onedrive - fcc\\wd\\djangodemo\\.venv\\lib\\site-packages (from importlib-metadata->dash) (3.21.0)\n",
      "Requirement already satisfied: charset-normalizer<4,>=2 in c:\\users\\brandstc0704\\onedrive - fcc\\wd\\djangodemo\\.venv\\lib\\site-packages (from requests->dash) (3.4.1)\n",
      "Requirement already satisfied: idna<4,>=2.5 in c:\\users\\brandstc0704\\onedrive - fcc\\wd\\djangodemo\\.venv\\lib\\site-packages (from requests->dash) (3.10)\n",
      "Requirement already satisfied: urllib3<3,>=1.21.1 in c:\\users\\brandstc0704\\onedrive - fcc\\wd\\djangodemo\\.venv\\lib\\site-packages (from requests->dash) (2.3.0)\n",
      "Requirement already satisfied: certifi>=2017.4.17 in c:\\users\\brandstc0704\\onedrive - fcc\\wd\\djangodemo\\.venv\\lib\\site-packages (from requests->dash) (2025.1.31)\n",
      "Requirement already satisfied: six>=1.7.0 in c:\\users\\brandstc0704\\onedrive - fcc\\wd\\djangodemo\\.venv\\lib\\site-packages (from retrying->dash) (1.17.0)\n",
      "Requirement already satisfied: colorama in c:\\users\\brandstc0704\\onedrive - fcc\\wd\\djangodemo\\.venv\\lib\\site-packages (from click>=8.1.3->Flask<3.1,>=1.0.4->dash) (0.4.6)\n"
     ]
    }
   ],
   "source": [
    "!pip install dash"
   ]
  },
  {
   "cell_type": "code",
   "execution_count": null,
   "metadata": {},
   "outputs": [
    {
     "name": "stdout",
     "output_type": "stream",
     "text": [
      "Collecting django_plotly_dash\n",
      "  Downloading django_plotly_dash-2.4.5-py3-none-any.whl.metadata (7.2 kB)\n",
      "Requirement already satisfied: plotly in c:\\users\\brandstc0704\\onedrive - fcc\\wd\\djangodemo\\.venv\\lib\\site-packages (from django_plotly_dash) (6.0.1)\n",
      "Collecting dash<3.0,>=2.0 (from django_plotly_dash)\n",
      "  Downloading dash-2.18.2-py3-none-any.whl.metadata (10 kB)\n",
      "Collecting dpd-components (from django_plotly_dash)\n",
      "  Downloading dpd_components-0.1.0.tar.gz (4.3 kB)\n",
      "  Installing build dependencies: started\n",
      "  Installing build dependencies: finished with status 'done'\n",
      "  Getting requirements to build wheel: started\n",
      "  Getting requirements to build wheel: finished with status 'done'\n",
      "  Preparing metadata (pyproject.toml): started\n",
      "  Preparing metadata (pyproject.toml): finished with status 'done'\n",
      "Collecting dash-bootstrap-components (from django_plotly_dash)\n",
      "  Downloading dash_bootstrap_components-2.0.0-py3-none-any.whl.metadata (18 kB)\n",
      "Collecting channels>=4.0 (from django_plotly_dash)\n",
      "  Downloading channels-4.2.0-py3-none-any.whl.metadata (4.5 kB)\n",
      "Requirement already satisfied: Django>=4.0.0 in c:\\users\\brandstc0704\\onedrive - fcc\\wd\\djangodemo\\.venv\\lib\\site-packages (from django_plotly_dash) (5.1.7)\n",
      "Collecting Flask>=1.0.2 (from django_plotly_dash)\n",
      "  Downloading flask-3.1.0-py3-none-any.whl.metadata (2.7 kB)\n",
      "Collecting Werkzeug (from django_plotly_dash)\n",
      "  Downloading werkzeug-3.1.3-py3-none-any.whl.metadata (3.7 kB)\n",
      "Requirement already satisfied: asgiref<4,>=3.6.0 in c:\\users\\brandstc0704\\onedrive - fcc\\wd\\djangodemo\\.venv\\lib\\site-packages (from channels>=4.0->django_plotly_dash) (3.8.1)\n",
      "Collecting Flask>=1.0.2 (from django_plotly_dash)\n",
      "  Downloading flask-3.0.3-py3-none-any.whl.metadata (3.2 kB)\n",
      "Collecting Werkzeug (from django_plotly_dash)\n",
      "  Downloading werkzeug-3.0.6-py3-none-any.whl.metadata (3.7 kB)\n",
      "Collecting dash-html-components==2.0.0 (from dash<3.0,>=2.0->django_plotly_dash)\n",
      "  Downloading dash_html_components-2.0.0-py3-none-any.whl.metadata (3.8 kB)\n",
      "Collecting dash-core-components==2.0.0 (from dash<3.0,>=2.0->django_plotly_dash)\n",
      "  Downloading dash_core_components-2.0.0-py3-none-any.whl.metadata (2.9 kB)\n",
      "Collecting dash-table==5.0.0 (from dash<3.0,>=2.0->django_plotly_dash)\n",
      "  Downloading dash_table-5.0.0-py3-none-any.whl.metadata (2.4 kB)\n",
      "Collecting importlib-metadata (from dash<3.0,>=2.0->django_plotly_dash)\n",
      "  Downloading importlib_metadata-8.6.1-py3-none-any.whl.metadata (4.7 kB)\n",
      "Requirement already satisfied: typing-extensions>=4.1.1 in c:\\users\\brandstc0704\\onedrive - fcc\\wd\\djangodemo\\.venv\\lib\\site-packages (from dash<3.0,>=2.0->django_plotly_dash) (4.12.2)\n",
      "Collecting requests (from dash<3.0,>=2.0->django_plotly_dash)\n",
      "  Using cached requests-2.32.3-py3-none-any.whl.metadata (4.6 kB)\n",
      "Collecting retrying (from dash<3.0,>=2.0->django_plotly_dash)\n",
      "  Downloading retrying-1.3.4-py3-none-any.whl.metadata (6.9 kB)\n",
      "Requirement already satisfied: nest-asyncio in c:\\users\\brandstc0704\\onedrive - fcc\\wd\\djangodemo\\.venv\\lib\\site-packages (from dash<3.0,>=2.0->django_plotly_dash) (1.6.0)\n",
      "Requirement already satisfied: setuptools in c:\\users\\brandstc0704\\onedrive - fcc\\wd\\djangodemo\\.venv\\lib\\site-packages (from dash<3.0,>=2.0->django_plotly_dash) (65.5.0)\n",
      "Requirement already satisfied: sqlparse>=0.3.1 in c:\\users\\brandstc0704\\onedrive - fcc\\wd\\djangodemo\\.venv\\lib\\site-packages (from Django>=4.0.0->django_plotly_dash) (0.5.3)\n",
      "Requirement already satisfied: tzdata in c:\\users\\brandstc0704\\onedrive - fcc\\wd\\djangodemo\\.venv\\lib\\site-packages (from Django>=4.0.0->django_plotly_dash) (2025.1)\n",
      "Collecting Jinja2>=3.1.2 (from Flask>=1.0.2->django_plotly_dash)\n",
      "  Downloading jinja2-3.1.6-py3-none-any.whl.metadata (2.9 kB)\n",
      "Collecting itsdangerous>=2.1.2 (from Flask>=1.0.2->django_plotly_dash)\n",
      "  Downloading itsdangerous-2.2.0-py3-none-any.whl.metadata (1.9 kB)\n",
      "Collecting click>=8.1.3 (from Flask>=1.0.2->django_plotly_dash)\n",
      "  Downloading click-8.1.8-py3-none-any.whl.metadata (2.3 kB)\n",
      "Collecting blinker>=1.6.2 (from Flask>=1.0.2->django_plotly_dash)\n",
      "  Downloading blinker-1.9.0-py3-none-any.whl.metadata (1.6 kB)\n",
      "Requirement already satisfied: narwhals>=1.15.1 in c:\\users\\brandstc0704\\onedrive - fcc\\wd\\djangodemo\\.venv\\lib\\site-packages (from plotly->django_plotly_dash) (1.31.0)\n",
      "Requirement already satisfied: packaging in c:\\users\\brandstc0704\\onedrive - fcc\\wd\\djangodemo\\.venv\\lib\\site-packages (from plotly->django_plotly_dash) (24.2)\n",
      "Collecting MarkupSafe>=2.1.1 (from Werkzeug->django_plotly_dash)\n",
      "  Using cached MarkupSafe-3.0.2-cp311-cp311-win_amd64.whl.metadata (4.1 kB)\n",
      "INFO: pip is looking at multiple versions of dash-bootstrap-components to determine which version is compatible with other requirements. This could take a while.\n",
      "Collecting dash-bootstrap-components (from django_plotly_dash)\n",
      "  Downloading dash_bootstrap_components-1.7.1-py3-none-any.whl.metadata (17 kB)\n",
      "Requirement already satisfied: colorama in c:\\users\\brandstc0704\\onedrive - fcc\\wd\\djangodemo\\.venv\\lib\\site-packages (from click>=8.1.3->Flask>=1.0.2->django_plotly_dash) (0.4.6)\n",
      "Collecting zipp>=3.20 (from importlib-metadata->dash<3.0,>=2.0->django_plotly_dash)\n",
      "  Downloading zipp-3.21.0-py3-none-any.whl.metadata (3.7 kB)\n",
      "Collecting charset-normalizer<4,>=2 (from requests->dash<3.0,>=2.0->django_plotly_dash)\n",
      "  Using cached charset_normalizer-3.4.1-cp311-cp311-win_amd64.whl.metadata (36 kB)\n",
      "Collecting idna<4,>=2.5 (from requests->dash<3.0,>=2.0->django_plotly_dash)\n",
      "  Using cached idna-3.10-py3-none-any.whl.metadata (10 kB)\n",
      "Collecting urllib3<3,>=1.21.1 (from requests->dash<3.0,>=2.0->django_plotly_dash)\n",
      "  Using cached urllib3-2.3.0-py3-none-any.whl.metadata (6.5 kB)\n",
      "Collecting certifi>=2017.4.17 (from requests->dash<3.0,>=2.0->django_plotly_dash)\n",
      "  Downloading certifi-2025.1.31-py3-none-any.whl.metadata (2.5 kB)\n",
      "Requirement already satisfied: six>=1.7.0 in c:\\users\\brandstc0704\\onedrive - fcc\\wd\\djangodemo\\.venv\\lib\\site-packages (from retrying->dash<3.0,>=2.0->django_plotly_dash) (1.17.0)\n",
      "Downloading django_plotly_dash-2.4.5-py3-none-any.whl (55 kB)\n",
      "Downloading channels-4.2.0-py3-none-any.whl (30 kB)\n",
      "Downloading dash-2.18.2-py3-none-any.whl (7.8 MB)\n",
      "   ---------------------------------------- 0.0/7.8 MB ? eta -:--:--\n",
      "   ----- ---------------------------------- 1.0/7.8 MB 5.6 MB/s eta 0:00:02\n",
      "   ---------- ----------------------------- 2.1/7.8 MB 5.6 MB/s eta 0:00:02\n",
      "   ----------------- ---------------------- 3.4/7.8 MB 5.3 MB/s eta 0:00:01\n",
      "   ---------------------- ----------------- 4.5/7.8 MB 5.4 MB/s eta 0:00:01\n",
      "   ---------------------------- ----------- 5.5/7.8 MB 5.3 MB/s eta 0:00:01\n",
      "   --------------------------------- ------ 6.6/7.8 MB 5.3 MB/s eta 0:00:01\n",
      "   ------------------------------------- -- 7.3/7.8 MB 5.1 MB/s eta 0:00:01\n",
      "   ---------------------------------------- 7.8/7.8 MB 4.8 MB/s eta 0:00:00\n",
      "Downloading dash_core_components-2.0.0-py3-none-any.whl (3.8 kB)\n",
      "Downloading dash_html_components-2.0.0-py3-none-any.whl (4.1 kB)\n",
      "Downloading dash_table-5.0.0-py3-none-any.whl (3.9 kB)\n",
      "Downloading flask-3.0.3-py3-none-any.whl (101 kB)\n",
      "Downloading werkzeug-3.0.6-py3-none-any.whl (227 kB)\n",
      "Downloading dash_bootstrap_components-1.7.1-py3-none-any.whl (229 kB)\n",
      "Downloading blinker-1.9.0-py3-none-any.whl (8.5 kB)\n",
      "Downloading click-8.1.8-py3-none-any.whl (98 kB)\n",
      "Downloading itsdangerous-2.2.0-py3-none-any.whl (16 kB)\n",
      "Downloading jinja2-3.1.6-py3-none-any.whl (134 kB)\n",
      "Using cached MarkupSafe-3.0.2-cp311-cp311-win_amd64.whl (15 kB)\n",
      "Downloading importlib_metadata-8.6.1-py3-none-any.whl (26 kB)\n",
      "Using cached requests-2.32.3-py3-none-any.whl (64 kB)\n",
      "Downloading retrying-1.3.4-py3-none-any.whl (11 kB)\n",
      "Downloading certifi-2025.1.31-py3-none-any.whl (166 kB)\n",
      "Using cached charset_normalizer-3.4.1-cp311-cp311-win_amd64.whl (102 kB)\n",
      "Using cached idna-3.10-py3-none-any.whl (70 kB)\n",
      "Using cached urllib3-2.3.0-py3-none-any.whl (128 kB)\n",
      "Downloading zipp-3.21.0-py3-none-any.whl (9.6 kB)\n",
      "Building wheels for collected packages: dpd-components\n",
      "  Building wheel for dpd-components (pyproject.toml): started\n",
      "  Building wheel for dpd-components (pyproject.toml): finished with status 'done'\n",
      "  Created wheel for dpd-components: filename=dpd_components-0.1.0-py3-none-any.whl size=4558 sha256=d0d6529273c036aa228b6c510c98092582f7758ed4f4fe00526220a41684c11f\n",
      "  Stored in directory: c:\\users\\brandstc0704\\appdata\\local\\packages\\pythonsoftwarefoundation.python.3.11_qbz5n2kfra8p0\\localcache\\local\\pip\\cache\\wheels\\01\\b3\\d9\\b278456bc2ef65ec0843c50bda32302bc1755496ec9e8ea4a8\n",
      "Successfully built dpd-components\n",
      "Installing collected packages: dpd-components, dash-table, dash-html-components, dash-core-components, zipp, urllib3, retrying, MarkupSafe, itsdangerous, idna, click, charset-normalizer, certifi, blinker, Werkzeug, requests, Jinja2, importlib-metadata, channels, Flask, dash, dash-bootstrap-components, django_plotly_dash\n",
      "Successfully installed Flask-3.0.3 Jinja2-3.1.6 MarkupSafe-3.0.2 Werkzeug-3.0.6 blinker-1.9.0 certifi-2025.1.31 channels-4.2.0 charset-normalizer-3.4.1 click-8.1.8 dash-2.18.2 dash-bootstrap-components-1.7.1 dash-core-components-2.0.0 dash-html-components-2.0.0 dash-table-5.0.0 django_plotly_dash-2.4.5 dpd-components-0.1.0 idna-3.10 importlib-metadata-8.6.1 itsdangerous-2.2.0 requests-2.32.3 retrying-1.3.4 urllib3-2.3.0 zipp-3.21.0\n"
     ]
    }
   ],
   "source": [
    "# !pip install django_plotly_dash"
   ]
  },
  {
   "cell_type": "code",
   "execution_count": 12,
   "metadata": {},
   "outputs": [
    {
     "name": "stdout",
     "output_type": "stream",
     "text": [
      "Collecting openpyxl\n",
      "  Using cached openpyxl-3.1.5-py2.py3-none-any.whl.metadata (2.5 kB)\n",
      "Collecting et-xmlfile (from openpyxl)\n",
      "  Using cached et_xmlfile-2.0.0-py3-none-any.whl.metadata (2.7 kB)\n",
      "Using cached openpyxl-3.1.5-py2.py3-none-any.whl (250 kB)\n",
      "Using cached et_xmlfile-2.0.0-py3-none-any.whl (18 kB)\n",
      "Installing collected packages: et-xmlfile, openpyxl\n",
      "Successfully installed et-xmlfile-2.0.0 openpyxl-3.1.5\n"
     ]
    }
   ],
   "source": [
    "!pip install openpyxl"
   ]
  },
  {
   "cell_type": "code",
   "execution_count": 13,
   "metadata": {},
   "outputs": [
    {
     "name": "stdout",
     "output_type": "stream",
     "text": [
      "Collecting dash_extensions\n",
      "  Downloading dash_extensions-1.0.20-py3-none-any.whl.metadata (3.1 kB)\n",
      "Collecting Flask-Caching<3.0.0,>=2.1.0 (from dash_extensions)\n",
      "  Downloading Flask_Caching-2.3.1-py3-none-any.whl.metadata (2.2 kB)\n",
      "Requirement already satisfied: dash>=2.18.2 in c:\\users\\brandstc0704\\onedrive - fcc\\wd\\djangodemo\\.venv\\lib\\site-packages (from dash_extensions) (2.18.2)\n",
      "Collecting dataclass-wizard<0.31.0,>=0.30.1 (from dash_extensions)\n",
      "  Downloading dataclass_wizard-0.30.1-py2.py3-none-any.whl.metadata (45 kB)\n",
      "Collecting jsbeautifier<2.0.0,>=1.14.3 (from dash_extensions)\n",
      "  Downloading jsbeautifier-1.15.4-py3-none-any.whl.metadata (374 bytes)\n",
      "Collecting more-itertools<11.0.0,>=10.2.0 (from dash_extensions)\n",
      "  Downloading more_itertools-10.6.0-py3-none-any.whl.metadata (37 kB)\n",
      "Collecting pydantic<3.0.0,>=2.10.1 (from dash_extensions)\n",
      "  Downloading pydantic-2.10.6-py3-none-any.whl.metadata (30 kB)\n",
      "Requirement already satisfied: Flask<3.1,>=1.0.4 in c:\\users\\brandstc0704\\onedrive - fcc\\wd\\djangodemo\\.venv\\lib\\site-packages (from dash>=2.18.2->dash_extensions) (3.0.3)\n",
      "Requirement already satisfied: Werkzeug<3.1 in c:\\users\\brandstc0704\\onedrive - fcc\\wd\\djangodemo\\.venv\\lib\\site-packages (from dash>=2.18.2->dash_extensions) (3.0.6)\n",
      "Requirement already satisfied: plotly>=5.0.0 in c:\\users\\brandstc0704\\onedrive - fcc\\wd\\djangodemo\\.venv\\lib\\site-packages (from dash>=2.18.2->dash_extensions) (6.0.1)\n",
      "Requirement already satisfied: dash-html-components==2.0.0 in c:\\users\\brandstc0704\\onedrive - fcc\\wd\\djangodemo\\.venv\\lib\\site-packages (from dash>=2.18.2->dash_extensions) (2.0.0)\n",
      "Requirement already satisfied: dash-core-components==2.0.0 in c:\\users\\brandstc0704\\onedrive - fcc\\wd\\djangodemo\\.venv\\lib\\site-packages (from dash>=2.18.2->dash_extensions) (2.0.0)\n",
      "Requirement already satisfied: dash-table==5.0.0 in c:\\users\\brandstc0704\\onedrive - fcc\\wd\\djangodemo\\.venv\\lib\\site-packages (from dash>=2.18.2->dash_extensions) (5.0.0)\n",
      "Requirement already satisfied: importlib-metadata in c:\\users\\brandstc0704\\onedrive - fcc\\wd\\djangodemo\\.venv\\lib\\site-packages (from dash>=2.18.2->dash_extensions) (8.6.1)\n",
      "Requirement already satisfied: typing-extensions>=4.1.1 in c:\\users\\brandstc0704\\onedrive - fcc\\wd\\djangodemo\\.venv\\lib\\site-packages (from dash>=2.18.2->dash_extensions) (4.12.2)\n",
      "Requirement already satisfied: requests in c:\\users\\brandstc0704\\onedrive - fcc\\wd\\djangodemo\\.venv\\lib\\site-packages (from dash>=2.18.2->dash_extensions) (2.32.3)\n",
      "Requirement already satisfied: retrying in c:\\users\\brandstc0704\\onedrive - fcc\\wd\\djangodemo\\.venv\\lib\\site-packages (from dash>=2.18.2->dash_extensions) (1.3.4)\n",
      "Requirement already satisfied: nest-asyncio in c:\\users\\brandstc0704\\onedrive - fcc\\wd\\djangodemo\\.venv\\lib\\site-packages (from dash>=2.18.2->dash_extensions) (1.6.0)\n",
      "Requirement already satisfied: setuptools in c:\\users\\brandstc0704\\onedrive - fcc\\wd\\djangodemo\\.venv\\lib\\site-packages (from dash>=2.18.2->dash_extensions) (65.5.0)\n",
      "Collecting cachelib>=0.9.0 (from Flask-Caching<3.0.0,>=2.1.0->dash_extensions)\n",
      "  Downloading cachelib-0.13.0-py3-none-any.whl.metadata (2.0 kB)\n",
      "Requirement already satisfied: six>=1.13.0 in c:\\users\\brandstc0704\\onedrive - fcc\\wd\\djangodemo\\.venv\\lib\\site-packages (from jsbeautifier<2.0.0,>=1.14.3->dash_extensions) (1.17.0)\n",
      "Collecting editorconfig>=0.12.2 (from jsbeautifier<2.0.0,>=1.14.3->dash_extensions)\n",
      "  Downloading EditorConfig-0.17.0-py3-none-any.whl.metadata (3.8 kB)\n",
      "Collecting annotated-types>=0.6.0 (from pydantic<3.0.0,>=2.10.1->dash_extensions)\n",
      "  Downloading annotated_types-0.7.0-py3-none-any.whl.metadata (15 kB)\n",
      "Collecting pydantic-core==2.27.2 (from pydantic<3.0.0,>=2.10.1->dash_extensions)\n",
      "  Downloading pydantic_core-2.27.2-cp311-cp311-win_amd64.whl.metadata (6.7 kB)\n",
      "Requirement already satisfied: Jinja2>=3.1.2 in c:\\users\\brandstc0704\\onedrive - fcc\\wd\\djangodemo\\.venv\\lib\\site-packages (from Flask<3.1,>=1.0.4->dash>=2.18.2->dash_extensions) (3.1.6)\n",
      "Requirement already satisfied: itsdangerous>=2.1.2 in c:\\users\\brandstc0704\\onedrive - fcc\\wd\\djangodemo\\.venv\\lib\\site-packages (from Flask<3.1,>=1.0.4->dash>=2.18.2->dash_extensions) (2.2.0)\n",
      "Requirement already satisfied: click>=8.1.3 in c:\\users\\brandstc0704\\onedrive - fcc\\wd\\djangodemo\\.venv\\lib\\site-packages (from Flask<3.1,>=1.0.4->dash>=2.18.2->dash_extensions) (8.1.8)\n",
      "Requirement already satisfied: blinker>=1.6.2 in c:\\users\\brandstc0704\\onedrive - fcc\\wd\\djangodemo\\.venv\\lib\\site-packages (from Flask<3.1,>=1.0.4->dash>=2.18.2->dash_extensions) (1.9.0)\n",
      "Requirement already satisfied: narwhals>=1.15.1 in c:\\users\\brandstc0704\\onedrive - fcc\\wd\\djangodemo\\.venv\\lib\\site-packages (from plotly>=5.0.0->dash>=2.18.2->dash_extensions) (1.31.0)\n",
      "Requirement already satisfied: packaging in c:\\users\\brandstc0704\\onedrive - fcc\\wd\\djangodemo\\.venv\\lib\\site-packages (from plotly>=5.0.0->dash>=2.18.2->dash_extensions) (24.2)\n",
      "Requirement already satisfied: MarkupSafe>=2.1.1 in c:\\users\\brandstc0704\\onedrive - fcc\\wd\\djangodemo\\.venv\\lib\\site-packages (from Werkzeug<3.1->dash>=2.18.2->dash_extensions) (3.0.2)\n",
      "Requirement already satisfied: zipp>=3.20 in c:\\users\\brandstc0704\\onedrive - fcc\\wd\\djangodemo\\.venv\\lib\\site-packages (from importlib-metadata->dash>=2.18.2->dash_extensions) (3.21.0)\n",
      "Requirement already satisfied: charset-normalizer<4,>=2 in c:\\users\\brandstc0704\\onedrive - fcc\\wd\\djangodemo\\.venv\\lib\\site-packages (from requests->dash>=2.18.2->dash_extensions) (3.4.1)\n",
      "Requirement already satisfied: idna<4,>=2.5 in c:\\users\\brandstc0704\\onedrive - fcc\\wd\\djangodemo\\.venv\\lib\\site-packages (from requests->dash>=2.18.2->dash_extensions) (3.10)\n",
      "Requirement already satisfied: urllib3<3,>=1.21.1 in c:\\users\\brandstc0704\\onedrive - fcc\\wd\\djangodemo\\.venv\\lib\\site-packages (from requests->dash>=2.18.2->dash_extensions) (2.3.0)\n",
      "Requirement already satisfied: certifi>=2017.4.17 in c:\\users\\brandstc0704\\onedrive - fcc\\wd\\djangodemo\\.venv\\lib\\site-packages (from requests->dash>=2.18.2->dash_extensions) (2025.1.31)\n",
      "Requirement already satisfied: colorama in c:\\users\\brandstc0704\\onedrive - fcc\\wd\\djangodemo\\.venv\\lib\\site-packages (from click>=8.1.3->Flask<3.1,>=1.0.4->dash>=2.18.2->dash_extensions) (0.4.6)\n",
      "Downloading dash_extensions-1.0.20-py3-none-any.whl (1.5 MB)\n",
      "   ---------------------------------------- 0.0/1.5 MB ? eta -:--:--\n",
      "   ---------------------------- ----------- 1.0/1.5 MB 5.6 MB/s eta 0:00:01\n",
      "   ---------------------------------------- 1.5/1.5 MB 5.2 MB/s eta 0:00:00\n",
      "Downloading dataclass_wizard-0.30.1-py2.py3-none-any.whl (114 kB)\n",
      "Downloading Flask_Caching-2.3.1-py3-none-any.whl (28 kB)\n",
      "Downloading jsbeautifier-1.15.4-py3-none-any.whl (94 kB)\n",
      "Downloading more_itertools-10.6.0-py3-none-any.whl (63 kB)\n",
      "Downloading pydantic-2.10.6-py3-none-any.whl (431 kB)\n",
      "Downloading pydantic_core-2.27.2-cp311-cp311-win_amd64.whl (2.0 MB)\n",
      "   ---------------------------------------- 0.0/2.0 MB ? eta -:--:--\n",
      "   --------------------- ------------------ 1.0/2.0 MB 5.6 MB/s eta 0:00:01\n",
      "   ---------------------------------------- 2.0/2.0 MB 5.2 MB/s eta 0:00:00\n",
      "Downloading annotated_types-0.7.0-py3-none-any.whl (13 kB)\n",
      "Downloading cachelib-0.13.0-py3-none-any.whl (20 kB)\n",
      "Downloading EditorConfig-0.17.0-py3-none-any.whl (16 kB)\n",
      "Installing collected packages: editorconfig, dataclass-wizard, pydantic-core, more-itertools, jsbeautifier, cachelib, annotated-types, pydantic, Flask-Caching, dash_extensions\n",
      "Successfully installed Flask-Caching-2.3.1 annotated-types-0.7.0 cachelib-0.13.0 dash_extensions-1.0.20 dataclass-wizard-0.30.1 editorconfig-0.17.0 jsbeautifier-1.15.4 more-itertools-10.6.0 pydantic-2.10.6 pydantic-core-2.27.2\n"
     ]
    }
   ],
   "source": [
    "!pip install dash_extensions"
   ]
  },
  {
   "cell_type": "code",
   "execution_count": null,
   "metadata": {},
   "outputs": [
    {
     "data": {
      "application/vnd.plotly.v1+json": {
       "config": {
        "plotlyServerURL": "https://plot.ly"
       },
       "data": [
        {
         "hovertemplate": "week=%{x}<br>Total Hours=%{y}<extra></extra>",
         "legendgroup": "",
         "marker": {
          "color": "#636efa",
          "pattern": {
           "shape": ""
          }
         },
         "name": "",
         "orientation": "v",
         "showlegend": false,
         "textposition": "auto",
         "type": "bar",
         "x": [
          "2025-W10",
          "2025-W11"
         ],
         "xaxis": "x",
         "y": {
          "bdata": "AAAAAAAAOEAAAAAAAAA5QA==",
          "dtype": "f8"
         },
         "yaxis": "y"
        }
       ],
       "layout": {
        "barmode": "relative",
        "legend": {
         "tracegroupgap": 0
        },
        "template": {
         "data": {
          "bar": [
           {
            "error_x": {
             "color": "#2a3f5f"
            },
            "error_y": {
             "color": "#2a3f5f"
            },
            "marker": {
             "line": {
              "color": "#E5ECF6",
              "width": 0.5
             },
             "pattern": {
              "fillmode": "overlay",
              "size": 10,
              "solidity": 0.2
             }
            },
            "type": "bar"
           }
          ],
          "barpolar": [
           {
            "marker": {
             "line": {
              "color": "#E5ECF6",
              "width": 0.5
             },
             "pattern": {
              "fillmode": "overlay",
              "size": 10,
              "solidity": 0.2
             }
            },
            "type": "barpolar"
           }
          ],
          "carpet": [
           {
            "aaxis": {
             "endlinecolor": "#2a3f5f",
             "gridcolor": "white",
             "linecolor": "white",
             "minorgridcolor": "white",
             "startlinecolor": "#2a3f5f"
            },
            "baxis": {
             "endlinecolor": "#2a3f5f",
             "gridcolor": "white",
             "linecolor": "white",
             "minorgridcolor": "white",
             "startlinecolor": "#2a3f5f"
            },
            "type": "carpet"
           }
          ],
          "choropleth": [
           {
            "colorbar": {
             "outlinewidth": 0,
             "ticks": ""
            },
            "type": "choropleth"
           }
          ],
          "contour": [
           {
            "colorbar": {
             "outlinewidth": 0,
             "ticks": ""
            },
            "colorscale": [
             [
              0,
              "#0d0887"
             ],
             [
              0.1111111111111111,
              "#46039f"
             ],
             [
              0.2222222222222222,
              "#7201a8"
             ],
             [
              0.3333333333333333,
              "#9c179e"
             ],
             [
              0.4444444444444444,
              "#bd3786"
             ],
             [
              0.5555555555555556,
              "#d8576b"
             ],
             [
              0.6666666666666666,
              "#ed7953"
             ],
             [
              0.7777777777777778,
              "#fb9f3a"
             ],
             [
              0.8888888888888888,
              "#fdca26"
             ],
             [
              1,
              "#f0f921"
             ]
            ],
            "type": "contour"
           }
          ],
          "contourcarpet": [
           {
            "colorbar": {
             "outlinewidth": 0,
             "ticks": ""
            },
            "type": "contourcarpet"
           }
          ],
          "heatmap": [
           {
            "colorbar": {
             "outlinewidth": 0,
             "ticks": ""
            },
            "colorscale": [
             [
              0,
              "#0d0887"
             ],
             [
              0.1111111111111111,
              "#46039f"
             ],
             [
              0.2222222222222222,
              "#7201a8"
             ],
             [
              0.3333333333333333,
              "#9c179e"
             ],
             [
              0.4444444444444444,
              "#bd3786"
             ],
             [
              0.5555555555555556,
              "#d8576b"
             ],
             [
              0.6666666666666666,
              "#ed7953"
             ],
             [
              0.7777777777777778,
              "#fb9f3a"
             ],
             [
              0.8888888888888888,
              "#fdca26"
             ],
             [
              1,
              "#f0f921"
             ]
            ],
            "type": "heatmap"
           }
          ],
          "histogram": [
           {
            "marker": {
             "pattern": {
              "fillmode": "overlay",
              "size": 10,
              "solidity": 0.2
             }
            },
            "type": "histogram"
           }
          ],
          "histogram2d": [
           {
            "colorbar": {
             "outlinewidth": 0,
             "ticks": ""
            },
            "colorscale": [
             [
              0,
              "#0d0887"
             ],
             [
              0.1111111111111111,
              "#46039f"
             ],
             [
              0.2222222222222222,
              "#7201a8"
             ],
             [
              0.3333333333333333,
              "#9c179e"
             ],
             [
              0.4444444444444444,
              "#bd3786"
             ],
             [
              0.5555555555555556,
              "#d8576b"
             ],
             [
              0.6666666666666666,
              "#ed7953"
             ],
             [
              0.7777777777777778,
              "#fb9f3a"
             ],
             [
              0.8888888888888888,
              "#fdca26"
             ],
             [
              1,
              "#f0f921"
             ]
            ],
            "type": "histogram2d"
           }
          ],
          "histogram2dcontour": [
           {
            "colorbar": {
             "outlinewidth": 0,
             "ticks": ""
            },
            "colorscale": [
             [
              0,
              "#0d0887"
             ],
             [
              0.1111111111111111,
              "#46039f"
             ],
             [
              0.2222222222222222,
              "#7201a8"
             ],
             [
              0.3333333333333333,
              "#9c179e"
             ],
             [
              0.4444444444444444,
              "#bd3786"
             ],
             [
              0.5555555555555556,
              "#d8576b"
             ],
             [
              0.6666666666666666,
              "#ed7953"
             ],
             [
              0.7777777777777778,
              "#fb9f3a"
             ],
             [
              0.8888888888888888,
              "#fdca26"
             ],
             [
              1,
              "#f0f921"
             ]
            ],
            "type": "histogram2dcontour"
           }
          ],
          "mesh3d": [
           {
            "colorbar": {
             "outlinewidth": 0,
             "ticks": ""
            },
            "type": "mesh3d"
           }
          ],
          "parcoords": [
           {
            "line": {
             "colorbar": {
              "outlinewidth": 0,
              "ticks": ""
             }
            },
            "type": "parcoords"
           }
          ],
          "pie": [
           {
            "automargin": true,
            "type": "pie"
           }
          ],
          "scatter": [
           {
            "fillpattern": {
             "fillmode": "overlay",
             "size": 10,
             "solidity": 0.2
            },
            "type": "scatter"
           }
          ],
          "scatter3d": [
           {
            "line": {
             "colorbar": {
              "outlinewidth": 0,
              "ticks": ""
             }
            },
            "marker": {
             "colorbar": {
              "outlinewidth": 0,
              "ticks": ""
             }
            },
            "type": "scatter3d"
           }
          ],
          "scattercarpet": [
           {
            "marker": {
             "colorbar": {
              "outlinewidth": 0,
              "ticks": ""
             }
            },
            "type": "scattercarpet"
           }
          ],
          "scattergeo": [
           {
            "marker": {
             "colorbar": {
              "outlinewidth": 0,
              "ticks": ""
             }
            },
            "type": "scattergeo"
           }
          ],
          "scattergl": [
           {
            "marker": {
             "colorbar": {
              "outlinewidth": 0,
              "ticks": ""
             }
            },
            "type": "scattergl"
           }
          ],
          "scattermap": [
           {
            "marker": {
             "colorbar": {
              "outlinewidth": 0,
              "ticks": ""
             }
            },
            "type": "scattermap"
           }
          ],
          "scattermapbox": [
           {
            "marker": {
             "colorbar": {
              "outlinewidth": 0,
              "ticks": ""
             }
            },
            "type": "scattermapbox"
           }
          ],
          "scatterpolar": [
           {
            "marker": {
             "colorbar": {
              "outlinewidth": 0,
              "ticks": ""
             }
            },
            "type": "scatterpolar"
           }
          ],
          "scatterpolargl": [
           {
            "marker": {
             "colorbar": {
              "outlinewidth": 0,
              "ticks": ""
             }
            },
            "type": "scatterpolargl"
           }
          ],
          "scatterternary": [
           {
            "marker": {
             "colorbar": {
              "outlinewidth": 0,
              "ticks": ""
             }
            },
            "type": "scatterternary"
           }
          ],
          "surface": [
           {
            "colorbar": {
             "outlinewidth": 0,
             "ticks": ""
            },
            "colorscale": [
             [
              0,
              "#0d0887"
             ],
             [
              0.1111111111111111,
              "#46039f"
             ],
             [
              0.2222222222222222,
              "#7201a8"
             ],
             [
              0.3333333333333333,
              "#9c179e"
             ],
             [
              0.4444444444444444,
              "#bd3786"
             ],
             [
              0.5555555555555556,
              "#d8576b"
             ],
             [
              0.6666666666666666,
              "#ed7953"
             ],
             [
              0.7777777777777778,
              "#fb9f3a"
             ],
             [
              0.8888888888888888,
              "#fdca26"
             ],
             [
              1,
              "#f0f921"
             ]
            ],
            "type": "surface"
           }
          ],
          "table": [
           {
            "cells": {
             "fill": {
              "color": "#EBF0F8"
             },
             "line": {
              "color": "white"
             }
            },
            "header": {
             "fill": {
              "color": "#C8D4E3"
             },
             "line": {
              "color": "white"
             }
            },
            "type": "table"
           }
          ]
         },
         "layout": {
          "annotationdefaults": {
           "arrowcolor": "#2a3f5f",
           "arrowhead": 0,
           "arrowwidth": 1
          },
          "autotypenumbers": "strict",
          "coloraxis": {
           "colorbar": {
            "outlinewidth": 0,
            "ticks": ""
           }
          },
          "colorscale": {
           "diverging": [
            [
             0,
             "#8e0152"
            ],
            [
             0.1,
             "#c51b7d"
            ],
            [
             0.2,
             "#de77ae"
            ],
            [
             0.3,
             "#f1b6da"
            ],
            [
             0.4,
             "#fde0ef"
            ],
            [
             0.5,
             "#f7f7f7"
            ],
            [
             0.6,
             "#e6f5d0"
            ],
            [
             0.7,
             "#b8e186"
            ],
            [
             0.8,
             "#7fbc41"
            ],
            [
             0.9,
             "#4d9221"
            ],
            [
             1,
             "#276419"
            ]
           ],
           "sequential": [
            [
             0,
             "#0d0887"
            ],
            [
             0.1111111111111111,
             "#46039f"
            ],
            [
             0.2222222222222222,
             "#7201a8"
            ],
            [
             0.3333333333333333,
             "#9c179e"
            ],
            [
             0.4444444444444444,
             "#bd3786"
            ],
            [
             0.5555555555555556,
             "#d8576b"
            ],
            [
             0.6666666666666666,
             "#ed7953"
            ],
            [
             0.7777777777777778,
             "#fb9f3a"
            ],
            [
             0.8888888888888888,
             "#fdca26"
            ],
            [
             1,
             "#f0f921"
            ]
           ],
           "sequentialminus": [
            [
             0,
             "#0d0887"
            ],
            [
             0.1111111111111111,
             "#46039f"
            ],
            [
             0.2222222222222222,
             "#7201a8"
            ],
            [
             0.3333333333333333,
             "#9c179e"
            ],
            [
             0.4444444444444444,
             "#bd3786"
            ],
            [
             0.5555555555555556,
             "#d8576b"
            ],
            [
             0.6666666666666666,
             "#ed7953"
            ],
            [
             0.7777777777777778,
             "#fb9f3a"
            ],
            [
             0.8888888888888888,
             "#fdca26"
            ],
            [
             1,
             "#f0f921"
            ]
           ]
          },
          "colorway": [
           "#636efa",
           "#EF553B",
           "#00cc96",
           "#ab63fa",
           "#FFA15A",
           "#19d3f3",
           "#FF6692",
           "#B6E880",
           "#FF97FF",
           "#FECB52"
          ],
          "font": {
           "color": "#2a3f5f"
          },
          "geo": {
           "bgcolor": "white",
           "lakecolor": "white",
           "landcolor": "#E5ECF6",
           "showlakes": true,
           "showland": true,
           "subunitcolor": "white"
          },
          "hoverlabel": {
           "align": "left"
          },
          "hovermode": "closest",
          "mapbox": {
           "style": "light"
          },
          "paper_bgcolor": "white",
          "plot_bgcolor": "#E5ECF6",
          "polar": {
           "angularaxis": {
            "gridcolor": "white",
            "linecolor": "white",
            "ticks": ""
           },
           "bgcolor": "#E5ECF6",
           "radialaxis": {
            "gridcolor": "white",
            "linecolor": "white",
            "ticks": ""
           }
          },
          "scene": {
           "xaxis": {
            "backgroundcolor": "#E5ECF6",
            "gridcolor": "white",
            "gridwidth": 2,
            "linecolor": "white",
            "showbackground": true,
            "ticks": "",
            "zerolinecolor": "white"
           },
           "yaxis": {
            "backgroundcolor": "#E5ECF6",
            "gridcolor": "white",
            "gridwidth": 2,
            "linecolor": "white",
            "showbackground": true,
            "ticks": "",
            "zerolinecolor": "white"
           },
           "zaxis": {
            "backgroundcolor": "#E5ECF6",
            "gridcolor": "white",
            "gridwidth": 2,
            "linecolor": "white",
            "showbackground": true,
            "ticks": "",
            "zerolinecolor": "white"
           }
          },
          "shapedefaults": {
           "line": {
            "color": "#2a3f5f"
           }
          },
          "ternary": {
           "aaxis": {
            "gridcolor": "white",
            "linecolor": "white",
            "ticks": ""
           },
           "baxis": {
            "gridcolor": "white",
            "linecolor": "white",
            "ticks": ""
           },
           "bgcolor": "#E5ECF6",
           "caxis": {
            "gridcolor": "white",
            "linecolor": "white",
            "ticks": ""
           }
          },
          "title": {
           "x": 0.05
          },
          "xaxis": {
           "automargin": true,
           "gridcolor": "white",
           "linecolor": "white",
           "ticks": "",
           "title": {
            "standoff": 15
           },
           "zerolinecolor": "white",
           "zerolinewidth": 2
          },
          "yaxis": {
           "automargin": true,
           "gridcolor": "white",
           "linecolor": "white",
           "ticks": "",
           "title": {
            "standoff": 15
           },
           "zerolinecolor": "white",
           "zerolinewidth": 2
          }
         }
        },
        "title": {
         "text": "Work Hours Difference per Week"
        },
        "xaxis": {
         "anchor": "y",
         "domain": [
          0,
          1
         ],
         "title": {
          "text": "week"
         }
        },
        "yaxis": {
         "anchor": "x",
         "domain": [
          0,
          1
         ],
         "title": {
          "text": "Total Hours"
         }
        }
       }
      }
     },
     "metadata": {},
     "output_type": "display_data"
    }
   ],
   "source": [
    "weekly_data = pd.DataFrame.from_dict(dict({'week': [\"2025-W10\", \"2025-W11\"],\n",
    "                   'Total Hours': [24.0, 25.0]}))\n",
    "\n",
    "px.bar(weekly_data, x=\"week\",\n",
    "                    y=\"Total Hours\",  \n",
    "                    title=\"Work Hours Difference per Week\", \n",
    "                    color_continuous_scale=\"Blues\",\n",
    "                    )"
   ]
  },
  {
   "cell_type": "code",
   "execution_count": null,
   "metadata": {},
   "outputs": [],
   "source": []
  }
 ],
 "metadata": {
  "kernelspec": {
   "display_name": ".venv",
   "language": "python",
   "name": "python3"
  },
  "language_info": {
   "codemirror_mode": {
    "name": "ipython",
    "version": 3
   },
   "file_extension": ".py",
   "mimetype": "text/x-python",
   "name": "python",
   "nbconvert_exporter": "python",
   "pygments_lexer": "ipython3",
   "version": "3.11.9"
  }
 },
 "nbformat": 4,
 "nbformat_minor": 2
}
